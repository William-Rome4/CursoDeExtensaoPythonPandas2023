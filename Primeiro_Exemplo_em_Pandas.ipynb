{
  "nbformat": 4,
  "nbformat_minor": 0,
  "metadata": {
    "colab": {
      "provenance": [],
      "authorship_tag": "ABX9TyMfjbg2BokYDUyKL6wLuOLV",
      "include_colab_link": true
    },
    "kernelspec": {
      "name": "python3",
      "display_name": "Python 3"
    },
    "language_info": {
      "name": "python"
    }
  },
  "cells": [
    {
      "cell_type": "markdown",
      "metadata": {
        "id": "view-in-github",
        "colab_type": "text"
      },
      "source": [
        "<a href=\"https://colab.research.google.com/github/William-Rome4/CursoDeExtensaoPythonPandas2023/blob/master/Primeiro_Exemplo_em_Pandas.ipynb\" target=\"_parent\"><img src=\"https://colab.research.google.com/assets/colab-badge.svg\" alt=\"Open In Colab\"/></a>"
      ]
    },
    {
      "cell_type": "markdown",
      "source": [
        "###**Manipulação de dados usando Python Pandas**\n",
        "\n",
        "Autor: William Franz Piossek\n",
        "\n",
        "Data: 6 de fevereiro de 2023"
      ],
      "metadata": {
        "id": "0y99U2QTUcsH"
      }
    },
    {
      "cell_type": "code",
      "execution_count": null,
      "metadata": {
        "id": "1uH7SeFWQKDw"
      },
      "outputs": [],
      "source": [
        "#Importando biblioteca pandas\n",
        "import pandas as pd\n",
        "\n",
        "#df = pd.read.csv(\"precos-semestrais-ca-2022-01.csv\")"
      ]
    }
  ]
}